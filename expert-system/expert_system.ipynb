{
 "cells": [
  {
   "cell_type": "markdown",
   "metadata": {},
   "source": [
    "### **Sistem Pakar**\n",
    "\n",
    "Sistem pakar (expert system) adalah sistem yang berusaha mengapdosi pengetahuan manusia ke komputer, agar komputer dapat menyelesaikan masalah seperti yang biasa dilakukan oleh para ahli. Sistem pakar yang baik dirancang agar dapat menyelesaikan suatu permasalahan tertentu dengan meniru kerja dari para ahli.\n",
    "\n",
    "Jadi, sistem pakar merupakan kepakaran ditransfer dari seorang pakar (atau sumber kepakaran yang lain) ke komputer, pengetahuan yang ada disimpan dalam komputer, dan pengguna dapat berkonsultasi pada komputer itu untuk suatu nasehat, lalu komputer dapat mengambil inferensi (menyimpulkan, mendeduksi, dll.) seperti layaknya seorang pakar, kemudian menjelaskannya ke pengguna tersebut, bila perlu dengan alasan-alasannya.\n",
    "\n",
    "Sumber: [https://binus.ac.id/malang/2022/03/sistem-pakar-dalam-ilmu-komputer/](https://binus.ac.id/malang/2022/03/sistem-pakar-dalam-ilmu-komputer/)"
   ]
  },
  {
   "cell_type": "markdown",
   "metadata": {},
   "source": [
    "**Forward Chaining** adalah pencocokan fakta atau pernyataan dimulai dari bagian sebelah kiri (IF dulu). Dengan kata lain, penalaran dimulai dari fakta terlebih dahulu untuk menguji kebenaran hipotesis.\n",
    "\n",
    "Sumber: [https://youtu.be/fiuyhHXOavM?si=zno1Vvxa6WjKb_qN](https://youtu.be/fiuyhHXOavM?si=zno1Vvxa6WjKb_qN)"
   ]
  },
  {
   "cell_type": "code",
   "execution_count": null,
   "metadata": {},
   "outputs": [],
   "source": []
  },
  {
   "cell_type": "markdown",
   "metadata": {},
   "source": [
    "**Backward Chaining** adalah pencocokan fakta atau pernyataan dimulai dari bagian sebelah kanan (THEN dulu). Dengan kata lain, penalaran dimulai dari hipotesis terlebih dahulu, dan untuk menguji\n",
    "kebenaran hipotesis tersebut harus dicari fakta-fakta yang ada dalam basis pengetahuan.\n",
    "\n",
    "Sumber: [https://youtu.be/qyoAkdo-hJg?si=UHgPJvFrT3byQRn6](https://youtu.be/qyoAkdo-hJg?si=UHgPJvFrT3byQRn6)"
   ]
  },
  {
   "cell_type": "code",
   "execution_count": null,
   "metadata": {},
   "outputs": [],
   "source": []
  },
  {
   "cell_type": "markdown",
   "metadata": {},
   "source": [
    "### Tugas\n",
    "\n",
    "Cari kasus dan buat program forward chaining dan backward chaining, lalu simpan dalam notebook dengan nama `expert_system_case.ipynb` dan simpan dalam folder `expert-system`. Kemudian konversi menjadi sebuah file python dengan nama masing-masing `forward_chain_case.py` dan `backward_chain.py` lalu disimpan dalam folder `expert-system` dan jangan lupa push ke GitHub!"
   ]
  }
 ],
 "metadata": {
  "kernelspec": {
   "display_name": ".py-ml-ds-cheatsheet-venv",
   "language": "python",
   "name": "python3"
  },
  "language_info": {
   "name": "python",
   "version": "3.8.18"
  }
 },
 "nbformat": 4,
 "nbformat_minor": 2
}
